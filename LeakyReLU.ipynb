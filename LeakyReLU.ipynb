{
  "nbformat": 4,
  "nbformat_minor": 0,
  "metadata": {
    "colab": {
      "name": "LeakyReLU.ipynb",
      "provenance": [],
      "collapsed_sections": [],
      "include_colab_link": true
    },
    "kernelspec": {
      "name": "python3",
      "display_name": "Python 3"
    },
    "accelerator": "GPU"
  },
  "cells": [
    {
      "cell_type": "markdown",
      "metadata": {
        "id": "view-in-github",
        "colab_type": "text"
      },
      "source": [
        "<a href=\"https://colab.research.google.com/github/hyunjaecho94/deepmutation/blob/master/LeakyReLU.ipynb\" target=\"_parent\"><img src=\"https://colab.research.google.com/assets/colab-badge.svg\" alt=\"Open In Colab\"/></a>"
      ]
    },
    {
      "cell_type": "code",
      "metadata": {
        "id": "vVz9bPainQqH",
        "colab_type": "code",
        "outputId": "3d9e919a-aa01-4767-f6d1-b2c9283c5d44",
        "colab": {
          "base_uri": "https://localhost:8080/",
          "height": 122
        }
      },
      "source": [
        "import torch, torchvision, matplotlib\n",
        "import matplotlib.pyplot as plt\n",
        "import torchvision.transforms as transforms\n",
        "import torch.nn as nn\n",
        "torch.manual_seed(0)\n",
        "\n",
        "from google.colab import drive\n",
        "drive.mount('/content/gdrive')\n",
        "import numpy as np\n",
        "np.random.seed(0)"
      ],
      "execution_count": 1,
      "outputs": [
        {
          "output_type": "stream",
          "text": [
            "Go to this URL in a browser: https://accounts.google.com/o/oauth2/auth?client_id=947318989803-6bn6qk8qdgf4n4g3pfee6491hc0brc4i.apps.googleusercontent.com&redirect_uri=urn%3aietf%3awg%3aoauth%3a2.0%3aoob&response_type=code&scope=email%20https%3a%2f%2fwww.googleapis.com%2fauth%2fdocs.test%20https%3a%2f%2fwww.googleapis.com%2fauth%2fdrive%20https%3a%2f%2fwww.googleapis.com%2fauth%2fdrive.photos.readonly%20https%3a%2f%2fwww.googleapis.com%2fauth%2fpeopleapi.readonly\n",
            "\n",
            "Enter your authorization code:\n",
            "··········\n",
            "Mounted at /content/gdrive\n"
          ],
          "name": "stdout"
        }
      ]
    },
    {
      "cell_type": "code",
      "metadata": {
        "id": "ZNp578ZinSdo",
        "colab_type": "code",
        "outputId": "d635bdf1-c7aa-47b6-c117-6572243903ff",
        "colab": {
          "base_uri": "https://localhost:8080/",
          "height": 34
        }
      },
      "source": [
        "# Device configuration\n",
        "device = torch.device('cuda:0' if torch.cuda.is_available() else 'cpu')\n",
        "print(device)"
      ],
      "execution_count": 2,
      "outputs": [
        {
          "output_type": "stream",
          "text": [
            "cuda:0\n"
          ],
          "name": "stdout"
        }
      ]
    },
    {
      "cell_type": "code",
      "metadata": {
        "id": "Xomx9XQknT1j",
        "colab_type": "code",
        "outputId": "f89ec555-a5c2-4f58-a69c-206c53471c4d",
        "colab": {
          "base_uri": "https://localhost:8080/",
          "height": 255
        }
      },
      "source": [
        "# Hyper parameters\n",
        "num_epochs = 5\n",
        "num_classes = 10\n",
        "batch_size = 100\n",
        "learning_rate = 0.001\n",
        "\n",
        "# MNIST dataset\n",
        "train_dataset = torchvision.datasets.MNIST(root='MNIST/data/',\n",
        "                                           train=True, \n",
        "                                           transform=transforms.ToTensor(),\n",
        "                                           download=True)\n",
        "\n",
        "test_dataset = torchvision.datasets.MNIST(root='MNIST/data/',\n",
        "                                          train=False, \n",
        "                                          transform=transforms.ToTensor())\n",
        "\n",
        "# Data loader\n",
        "train_loader = torch.utils.data.DataLoader(dataset=train_dataset,\n",
        "                                           batch_size=batch_size, \n",
        "                                           shuffle=True)\n",
        "\n",
        "test_loader = torch.utils.data.DataLoader(dataset=test_dataset,\n",
        "                                          batch_size=batch_size, \n",
        "                                          shuffle=False)\n"
      ],
      "execution_count": 3,
      "outputs": [
        {
          "output_type": "stream",
          "text": [
            "\r0it [00:00, ?it/s]"
          ],
          "name": "stderr"
        },
        {
          "output_type": "stream",
          "text": [
            "Downloading http://yann.lecun.com/exdb/mnist/train-images-idx3-ubyte.gz to MNIST/data/MNIST/raw/train-images-idx3-ubyte.gz\n"
          ],
          "name": "stdout"
        },
        {
          "output_type": "stream",
          "text": [
            "9920512it [00:01, 8906021.12it/s]                            \n"
          ],
          "name": "stderr"
        },
        {
          "output_type": "stream",
          "text": [
            "Extracting MNIST/data/MNIST/raw/train-images-idx3-ubyte.gz to MNIST/data/MNIST/raw\n"
          ],
          "name": "stdout"
        },
        {
          "output_type": "stream",
          "text": [
            "  0%|          | 0/28881 [00:00<?, ?it/s]"
          ],
          "name": "stderr"
        },
        {
          "output_type": "stream",
          "text": [
            "Downloading http://yann.lecun.com/exdb/mnist/train-labels-idx1-ubyte.gz to MNIST/data/MNIST/raw/train-labels-idx1-ubyte.gz\n"
          ],
          "name": "stdout"
        },
        {
          "output_type": "stream",
          "text": [
            "32768it [00:00, 130059.51it/s]           \n",
            "  0%|          | 0/1648877 [00:00<?, ?it/s]"
          ],
          "name": "stderr"
        },
        {
          "output_type": "stream",
          "text": [
            "Extracting MNIST/data/MNIST/raw/train-labels-idx1-ubyte.gz to MNIST/data/MNIST/raw\n",
            "Downloading http://yann.lecun.com/exdb/mnist/t10k-images-idx3-ubyte.gz to MNIST/data/MNIST/raw/t10k-images-idx3-ubyte.gz\n"
          ],
          "name": "stdout"
        },
        {
          "output_type": "stream",
          "text": [
            "1654784it [00:00, 2220158.11it/s]                            \n",
            "0it [00:00, ?it/s]"
          ],
          "name": "stderr"
        },
        {
          "output_type": "stream",
          "text": [
            "Extracting MNIST/data/MNIST/raw/t10k-images-idx3-ubyte.gz to MNIST/data/MNIST/raw\n",
            "Downloading http://yann.lecun.com/exdb/mnist/t10k-labels-idx1-ubyte.gz to MNIST/data/MNIST/raw/t10k-labels-idx1-ubyte.gz\n"
          ],
          "name": "stdout"
        },
        {
          "output_type": "stream",
          "text": [
            "8192it [00:00, 51317.12it/s]            \n"
          ],
          "name": "stderr"
        },
        {
          "output_type": "stream",
          "text": [
            "Extracting MNIST/data/MNIST/raw/t10k-labels-idx1-ubyte.gz to MNIST/data/MNIST/raw\n",
            "Processing...\n",
            "Done!\n"
          ],
          "name": "stdout"
        }
      ]
    },
    {
      "cell_type": "code",
      "metadata": {
        "id": "u-gqcjeBnqdK",
        "colab_type": "code",
        "colab": {}
      },
      "source": [
        "# Convolutional neural network (two convolutional layers)\n",
        "class ConvNet(nn.Module):\n",
        "    def __init__(self, num_classes=10):\n",
        "        super(ConvNet, self).__init__()\n",
        "        self.layer1 = nn.Sequential(\n",
        "            nn.Conv2d(1, 16, kernel_size=5, stride=1, padding=2),\n",
        "            nn.BatchNorm2d(16),\n",
        "            nn.LeakyReLU(),\n",
        "            nn.MaxPool2d(kernel_size=2, stride=2))\n",
        "        self.layer2 = nn.Sequential(\n",
        "            nn.Conv2d(16, 32, kernel_size=5, stride=1, padding=2),\n",
        "            nn.BatchNorm2d(32),\n",
        "            nn.LeakyReLU(),\n",
        "            nn.MaxPool2d(kernel_size=2, stride=2))\n",
        "\n",
        "        self.fc = nn.Linear(7*7*32, num_classes)\n",
        "        \n",
        "    def forward(self, x):\n",
        "        out = self.layer1(x)\n",
        "        out = self.layer2(out)\n",
        "        out = out.reshape(out.size(0), -1)\n",
        "        out = self.fc(out)\n",
        "        return out\n",
        "\n",
        "model = ConvNet(num_classes).to(device)\n",
        "\n",
        "# Loss and optimizer\n",
        "criterion = nn.CrossEntropyLoss()\n",
        "optimizer = torch.optim.Adam(model.parameters(), lr=learning_rate)\n"
      ],
      "execution_count": 0,
      "outputs": []
    },
    {
      "cell_type": "code",
      "metadata": {
        "id": "d9o-e1bMntsD",
        "colab_type": "code",
        "outputId": "317d44b4-3b91-4247-c7ee-0ed5a18bf789",
        "colab": {
          "base_uri": "https://localhost:8080/",
          "height": 527
        }
      },
      "source": [
        "# Train the model\n",
        "total_step = len(train_loader)\n",
        "for epoch in range(num_epochs):\n",
        "    for i, (images, labels) in enumerate(train_loader):\n",
        "        images = images.to(device)\n",
        "        labels = labels.to(device)\n",
        "        \n",
        "        # Forward pass\n",
        "        outputs = model(images)\n",
        "        loss = criterion(outputs, labels)\n",
        "        \n",
        "        # Backward and optimize\n",
        "        optimizer.zero_grad()\n",
        "        loss.backward()\n",
        "        optimizer.step()\n",
        "        \n",
        "        if (i+1) % 100 == 0:\n",
        "            print ('Epoch [{}/{}], Step [{}/{}], Loss: {:.4f}' \n",
        "                   .format(epoch+1, num_epochs, i+1, total_step, loss.item()))"
      ],
      "execution_count": 5,
      "outputs": [
        {
          "output_type": "stream",
          "text": [
            "Epoch [1/5], Step [100/600], Loss: 0.1017\n",
            "Epoch [1/5], Step [200/600], Loss: 0.1264\n",
            "Epoch [1/5], Step [300/600], Loss: 0.1207\n",
            "Epoch [1/5], Step [400/600], Loss: 0.0942\n",
            "Epoch [1/5], Step [500/600], Loss: 0.1293\n",
            "Epoch [1/5], Step [600/600], Loss: 0.0338\n",
            "Epoch [2/5], Step [100/600], Loss: 0.0426\n",
            "Epoch [2/5], Step [200/600], Loss: 0.0553\n",
            "Epoch [2/5], Step [300/600], Loss: 0.0227\n",
            "Epoch [2/5], Step [400/600], Loss: 0.0134\n",
            "Epoch [2/5], Step [500/600], Loss: 0.0607\n",
            "Epoch [2/5], Step [600/600], Loss: 0.0691\n",
            "Epoch [3/5], Step [100/600], Loss: 0.0657\n",
            "Epoch [3/5], Step [200/600], Loss: 0.0532\n",
            "Epoch [3/5], Step [300/600], Loss: 0.0071\n",
            "Epoch [3/5], Step [400/600], Loss: 0.0293\n",
            "Epoch [3/5], Step [500/600], Loss: 0.0060\n",
            "Epoch [3/5], Step [600/600], Loss: 0.0650\n",
            "Epoch [4/5], Step [100/600], Loss: 0.0938\n",
            "Epoch [4/5], Step [200/600], Loss: 0.0245\n",
            "Epoch [4/5], Step [300/600], Loss: 0.0536\n",
            "Epoch [4/5], Step [400/600], Loss: 0.0080\n",
            "Epoch [4/5], Step [500/600], Loss: 0.0364\n",
            "Epoch [4/5], Step [600/600], Loss: 0.0016\n",
            "Epoch [5/5], Step [100/600], Loss: 0.0544\n",
            "Epoch [5/5], Step [200/600], Loss: 0.0248\n",
            "Epoch [5/5], Step [300/600], Loss: 0.0082\n",
            "Epoch [5/5], Step [400/600], Loss: 0.0080\n",
            "Epoch [5/5], Step [500/600], Loss: 0.0110\n",
            "Epoch [5/5], Step [600/600], Loss: 0.0356\n"
          ],
          "name": "stdout"
        }
      ]
    },
    {
      "cell_type": "code",
      "metadata": {
        "id": "LM062lznwvYx",
        "colab_type": "code",
        "colab": {}
      },
      "source": [
        "path = F\"/content/gdrive/My Drive/correct_test_dataset.txt\"\n",
        "correct_test = np.loadtxt(path, delimiter=\",\", dtype=int)"
      ],
      "execution_count": 0,
      "outputs": []
    },
    {
      "cell_type": "code",
      "metadata": {
        "id": "JhYjDauL9e4B",
        "colab_type": "code",
        "colab": {}
      },
      "source": [
        "# Dictionary to record which indices are incorrectly classified\n",
        "# incorrection_dict[true_label] = what model thinks the class is\n",
        "incorrection_dict = {}\n",
        "incorrection_dict[0] = []\n",
        "incorrection_dict[1] = []\n",
        "incorrection_dict[2] = []\n",
        "incorrection_dict[3] = []\n",
        "incorrection_dict[4] = []\n",
        "incorrection_dict[5] = []\n",
        "incorrection_dict[5] = []\n",
        "incorrection_dict[6] = []\n",
        "incorrection_dict[7] = []\n",
        "incorrection_dict[8] = []\n",
        "incorrection_dict[9] = []"
      ],
      "execution_count": 0,
      "outputs": []
    },
    {
      "cell_type": "code",
      "metadata": {
        "id": "cOeoNqrWnwyw",
        "colab_type": "code",
        "outputId": "2a7298db-4faa-4ae1-d768-bef546340ee9",
        "colab": {
          "base_uri": "https://localhost:8080/",
          "height": 34
        }
      },
      "source": [
        "# Test the model\n",
        "model.eval()\n",
        "with torch.no_grad():\n",
        "    correct = 0\n",
        "    for idx, (images, labels) in enumerate(test_loader):\n",
        "        images = images.to(device)\n",
        "        labels = labels.to(device)\n",
        "        outputs = model(images)\n",
        "        _, predicted = torch.max(outputs.data, 1)\n",
        "        #only test ones correctly classified by the original model\n",
        "        for j in range(len(predicted)):\n",
        "          if idx*batch_size+j in correct_test:\n",
        "            if labels[j] == predicted[j]:\n",
        "              correct +=1\n",
        "            else:\n",
        "              incorrection_dict[labels[j].item()].append(predicted[j].item())\n",
        "\n",
        "    total = len(correct_test)\n",
        "        \n",
        "    print('Test Accuracy of the model on the {} test images (100% for original model): {} %'.format(total, 100 * correct / total))\n"
      ],
      "execution_count": 8,
      "outputs": [
        {
          "output_type": "stream",
          "text": [
            "Test Accuracy of the model on the 9896 test images (100% for original model): 99.8181083265966 %\n"
          ],
          "name": "stdout"
        }
      ]
    },
    {
      "cell_type": "code",
      "metadata": {
        "id": "jPEyUi_7iYCx",
        "colab_type": "code",
        "outputId": "66389e23-b196-4fed-8457-e1bae2e389a3",
        "colab": {
          "base_uri": "https://localhost:8080/",
          "height": 34
        }
      },
      "source": [
        "print(correct/total)"
      ],
      "execution_count": 9,
      "outputs": [
        {
          "output_type": "stream",
          "text": [
            "0.998181083265966\n"
          ],
          "name": "stdout"
        }
      ]
    },
    {
      "cell_type": "code",
      "metadata": {
        "id": "iR6IaR24nyi4",
        "colab_type": "code",
        "outputId": "8abef104-c9fe-4df2-8725-9235c6fd8c2d",
        "colab": {
          "base_uri": "https://localhost:8080/",
          "height": 187
        }
      },
      "source": [
        "incorrection_dict"
      ],
      "execution_count": 10,
      "outputs": [
        {
          "output_type": "execute_result",
          "data": {
            "text/plain": [
              "{0: [9],\n",
              " 1: [],\n",
              " 2: [4, 6],\n",
              " 3: [2, 5],\n",
              " 4: [8, 9, 8, 9],\n",
              " 5: [],\n",
              " 6: [0, 0],\n",
              " 7: [2, 1, 1, 1, 1, 2],\n",
              " 8: [],\n",
              " 9: [1]}"
            ]
          },
          "metadata": {
            "tags": []
          },
          "execution_count": 10
        }
      ]
    },
    {
      "cell_type": "code",
      "metadata": {
        "id": "K7Fwy9vOmHNV",
        "colab_type": "code",
        "colab": {}
      },
      "source": [
        "path =F\"/content/gdrive/My Drive/correction_dict.npy\" \n",
        "correction_dict=np.load(path, allow_pickle=True)"
      ],
      "execution_count": 0,
      "outputs": []
    },
    {
      "cell_type": "code",
      "metadata": {
        "id": "EC3nuR4i9wiO",
        "colab_type": "code",
        "outputId": "d1189383-2e60-44a6-e6f8-a6b53ae95c27",
        "colab": {
          "base_uri": "https://localhost:8080/",
          "height": 34
        }
      },
      "source": [
        "def calc_mutation_score():\n",
        "  score = 0\n",
        "  for key, value in incorrection_dict.items():\n",
        "    count_misclassify = len(value)\n",
        "    normalizing = len(correction_dict.item().get(key))\n",
        "    score += count_misclassify/normalizing\n",
        "  return score\n",
        "calc_mutation_score()"
      ],
      "execution_count": 12,
      "outputs": [
        {
          "output_type": "execute_result",
          "data": {
            "text/plain": [
              "0.018069560054479007"
            ]
          },
          "metadata": {
            "tags": []
          },
          "execution_count": 12
        }
      ]
    },
    {
      "cell_type": "markdown",
      "metadata": {
        "id": "tFM5HSq__PQ8",
        "colab_type": "text"
      },
      "source": [
        "As expectedly, substituting LeakyRelu for Relu as the mutant achives the lowest mutation affect. Relu and LeakyRelu are identical except for the slight (0.01) negative slope for x < 0. This similarity results in an almost no affect."
      ]
    },
    {
      "cell_type": "code",
      "metadata": {
        "id": "g18xrKst_OBz",
        "colab_type": "code",
        "colab": {}
      },
      "source": [
        ""
      ],
      "execution_count": 0,
      "outputs": []
    },
    {
      "cell_type": "code",
      "metadata": {
        "id": "BG6VnD3d9yKx",
        "colab_type": "code",
        "colab": {}
      },
      "source": [
        ""
      ],
      "execution_count": 0,
      "outputs": []
    },
    {
      "cell_type": "code",
      "metadata": {
        "id": "SqGHok9JBVMI",
        "colab_type": "code",
        "colab": {}
      },
      "source": [
        ""
      ],
      "execution_count": 0,
      "outputs": []
    }
  ]
}